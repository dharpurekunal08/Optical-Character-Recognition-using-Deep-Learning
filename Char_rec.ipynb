{
  "nbformat": 4,
  "nbformat_minor": 0,
  "metadata": {
    "colab": {
      "name": "OCR.ipynb",
      "version": "0.3.2",
      "provenance": [],
      "collapsed_sections": []
    },
    "kernelspec": {
      "name": "python3",
      "display_name": "Python 3"
    },
    "accelerator": "GPU"
  },
  "cells": [
    {
      "metadata": {
        "id": "-wsEVsMLiYBa",
        "colab_type": "code",
        "colab": {
          "base_uri": "https://localhost:8080/",
          "height": 36
        },
        "outputId": "4f577059-e133-4c6b-e542-4bf07cd6c890"
      },
      "cell_type": "code",
      "source": [
        "import tensorflow as tf\n",
        "tf.test.gpu_device_name()"
      ],
      "execution_count": 1,
      "outputs": [
        {
          "output_type": "execute_result",
          "data": {
            "text/plain": [
              "'/device:GPU:0'"
            ]
          },
          "metadata": {
            "tags": []
          },
          "execution_count": 1
        }
      ]
    },
    {
      "metadata": {
        "id": "x4hcmNzTiaeu",
        "colab_type": "code",
        "colab": {}
      },
      "cell_type": "code",
      "source": [
        "!pip install -U -q PyDrive\n",
        " \n",
        "from pydrive.auth import GoogleAuth\n",
        "from pydrive.drive import GoogleDrive\n",
        "from google.colab import auth\n",
        "from oauth2client.client import GoogleCredentials\n",
        " \n",
        "# 1. Authenticate and create the PyDrive client.\n",
        "auth.authenticate_user()\n",
        "gauth = GoogleAuth()\n",
        "gauth.credentials = GoogleCredentials.get_application_default()\n",
        "drive = GoogleDrive(gauth)"
      ],
      "execution_count": 0,
      "outputs": []
    },
    {
      "metadata": {
        "id": "kNWRajBKivNP",
        "colab_type": "code",
        "colab": {
          "base_uri": "https://localhost:8080/",
          "height": 93
        },
        "outputId": "61c4d3ed-a743-43d9-a340-6ece48d5027c"
      },
      "cell_type": "code",
      "source": [
        "file_list = drive.ListFile({'q': \"'1iW1GMIWmDm6h6uGxJPjk2bt-7JcQJETM' in parents and trashed=false\"}).GetList()\n",
        "for file1 in file_list:\n",
        "  print('title: %s, id: %s' % (file1['title'], file1['id']))"
      ],
      "execution_count": 3,
      "outputs": [
        {
          "output_type": "stream",
          "text": [
            "title: OCR.ipynb, id: 1_DYFu440zgSozaS2W5i7LH018UQU-C1y\n",
            "title: xml, id: 12UyuTf3rN2lQCOfCb5femi3A_q37eCy2\n",
            "title: emnist-balanced-train.csv, id: 1HfeTC65KaW3FOE2httDR6wYySvdUbF4o\n",
            "title: emnist-balanced-test.csv, id: 12dgVBkW6GCa-1dQkSMrLQ55ee-FUgv3M\n"
          ],
          "name": "stdout"
        }
      ]
    },
    {
      "metadata": {
        "id": "iQXf9mvWi7t3",
        "colab_type": "code",
        "colab": {}
      },
      "cell_type": "code",
      "source": [
        "train_downloaded = drive.CreateFile({'id': '1HfeTC65KaW3FOE2httDR6wYySvdUbF4o'})\n",
        "train_downloaded.GetContentFile('train.csv')\n",
        "test_downloaded = drive.CreateFile({'id': '12dgVBkW6GCa-1dQkSMrLQ55ee-FUgv3M'})\n",
        "test_downloaded.GetContentFile('test.csv')"
      ],
      "execution_count": 0,
      "outputs": []
    },
    {
      "metadata": {
        "id": "wGkvRqrUEi28",
        "colab_type": "code",
        "colab": {
          "base_uri": "https://localhost:8080/",
          "height": 36
        },
        "outputId": "3f8e6693-1d42-4325-e12f-d80bef275ded"
      },
      "cell_type": "code",
      "source": [
        "import numpy as np\n",
        "import keras\n",
        "import matplotlib.pyplot as plt\n",
        "import pandas as pd\n",
        "import os"
      ],
      "execution_count": 5,
      "outputs": [
        {
          "output_type": "stream",
          "text": [
            "Using TensorFlow backend.\n"
          ],
          "name": "stderr"
        }
      ]
    },
    {
      "metadata": {
        "id": "MW6hVWfZeiOn",
        "colab_type": "code",
        "colab": {
          "base_uri": "https://localhost:8080/",
          "height": 93
        },
        "outputId": "2def67fe-de23-40fb-ebf6-0e4ec76b17a1"
      },
      "cell_type": "code",
      "source": [
        "data_train = pd.read_csv(\"train.csv\").values\n",
        "data_test = pd.read_csv(\"test.csv\").values\n",
        "\n",
        "X_train = data_train[:, 1:]\n",
        "Y_train = data_train[:,0]\n",
        "X_test = data_test[:, 1:]\n",
        "Y_test = data_test[:,0]\n",
        "\n",
        "X_train = np.reshape(X_train, (X_train.shape[0], 28, 28, 1)) / 255\n",
        "X_test = np.reshape(X_test, (X_test.shape[0], 28, 28, 1)) / 255\n",
        "Y_train = np.reshape(Y_train, (Y_train.shape[0], 1))\n",
        "Y_test = np.reshape(Y_test, (Y_test.shape[0], 1))\n",
        "\n",
        "Y_train = keras.utils.to_categorical(Y_train, 47)\n",
        "Y_test = keras.utils.to_categorical(Y_test, 47)\n",
        "\n",
        "print(X_train.shape)\n",
        "print(Y_train.shape)\n",
        "print(X_test.shape)\n",
        "print(Y_test.shape)"
      ],
      "execution_count": 6,
      "outputs": [
        {
          "output_type": "stream",
          "text": [
            "(112799, 28, 28, 1)\n",
            "(112799, 47)\n",
            "(18799, 28, 28, 1)\n",
            "(18799, 47)\n"
          ],
          "name": "stdout"
        }
      ]
    },
    {
      "metadata": {
        "id": "8lsDPFAVgbwa",
        "colab_type": "code",
        "colab": {}
      },
      "cell_type": "code",
      "source": [
        "def make_model(input_shape):\n",
        "  X_input = keras.layers.Input(input_shape)\n",
        "  X = keras.layers.Conv2D(32, (3,3), padding = 'same')(X_input)\n",
        "  X = keras.layers.BatchNormalization(axis = 3)(X)\n",
        "  X = keras.layers.Activation('relu')(X)\n",
        "  \n",
        "  X = keras.layers.MaxPooling2D((2,2))(X)\n",
        "  \n",
        "  X = keras.layers.Conv2D(64, (3,3), padding = 'same')(X)\n",
        "  X = keras.layers.BatchNormalization(axis = 3)(X)\n",
        "  X = keras.layers.Activation('relu')(X)\n",
        "  \n",
        "  X = keras.layers.MaxPooling2D((2,2))(X)\n",
        "  \n",
        "  X = keras.layers.Conv2D(128, (4,4))(X)\n",
        "  X = keras.layers.BatchNormalization(axis = 3)(X)\n",
        "  X = keras.layers.Activation('relu')(X)\n",
        "  \n",
        "  X = keras.layers.Flatten()(X)\n",
        "  X = keras.layers.Dropout(0.5)(X)\n",
        "  X = keras.layers.Dense(256, activation = 'relu')(X)\n",
        "  X = keras.layers.Dropout(0.5)(X)\n",
        "  X = keras.layers.Dense(47, activation = 'softmax')(X)\n",
        "  \n",
        "  model = keras.models.Model(inputs = X_input, outputs = X, name = \"model\")\n",
        "  model.summary()\n",
        "  \n",
        "  return model"
      ],
      "execution_count": 0,
      "outputs": []
    },
    {
      "metadata": {
        "id": "jfrKwvIUSRE5",
        "colab_type": "code",
        "colab": {
          "base_uri": "https://localhost:8080/",
          "height": 796
        },
        "outputId": "d7972f64-9cfc-4608-deb8-91f38f88f26f"
      },
      "cell_type": "code",
      "source": [
        "model = make_model((28, 28, 1))"
      ],
      "execution_count": 8,
      "outputs": [
        {
          "output_type": "stream",
          "text": [
            "_________________________________________________________________\n",
            "Layer (type)                 Output Shape              Param #   \n",
            "=================================================================\n",
            "input_1 (InputLayer)         (None, 28, 28, 1)         0         \n",
            "_________________________________________________________________\n",
            "conv2d_1 (Conv2D)            (None, 28, 28, 32)        320       \n",
            "_________________________________________________________________\n",
            "batch_normalization_1 (Batch (None, 28, 28, 32)        128       \n",
            "_________________________________________________________________\n",
            "activation_1 (Activation)    (None, 28, 28, 32)        0         \n",
            "_________________________________________________________________\n",
            "max_pooling2d_1 (MaxPooling2 (None, 14, 14, 32)        0         \n",
            "_________________________________________________________________\n",
            "conv2d_2 (Conv2D)            (None, 14, 14, 64)        18496     \n",
            "_________________________________________________________________\n",
            "batch_normalization_2 (Batch (None, 14, 14, 64)        256       \n",
            "_________________________________________________________________\n",
            "activation_2 (Activation)    (None, 14, 14, 64)        0         \n",
            "_________________________________________________________________\n",
            "max_pooling2d_2 (MaxPooling2 (None, 7, 7, 64)          0         \n",
            "_________________________________________________________________\n",
            "conv2d_3 (Conv2D)            (None, 4, 4, 128)         131200    \n",
            "_________________________________________________________________\n",
            "batch_normalization_3 (Batch (None, 4, 4, 128)         512       \n",
            "_________________________________________________________________\n",
            "activation_3 (Activation)    (None, 4, 4, 128)         0         \n",
            "_________________________________________________________________\n",
            "flatten_1 (Flatten)          (None, 2048)              0         \n",
            "_________________________________________________________________\n",
            "dropout_1 (Dropout)          (None, 2048)              0         \n",
            "_________________________________________________________________\n",
            "dense_1 (Dense)              (None, 256)               524544    \n",
            "_________________________________________________________________\n",
            "dropout_2 (Dropout)          (None, 256)               0         \n",
            "_________________________________________________________________\n",
            "dense_2 (Dense)              (None, 47)                12079     \n",
            "=================================================================\n",
            "Total params: 687,535\n",
            "Trainable params: 687,087\n",
            "Non-trainable params: 448\n",
            "_________________________________________________________________\n"
          ],
          "name": "stdout"
        }
      ]
    },
    {
      "metadata": {
        "id": "34tgzA3Mm39r",
        "colab_type": "code",
        "colab": {}
      },
      "cell_type": "code",
      "source": [
        "opt = keras.optimizers.Adam(lr = 0.0001)\n",
        "model.compile(optimizer = 'adam', loss = 'categorical_crossentropy', metrics = ['accuracy'])"
      ],
      "execution_count": 0,
      "outputs": []
    },
    {
      "metadata": {
        "id": "WsigwA_1nxq2",
        "colab_type": "code",
        "colab": {
          "base_uri": "https://localhost:8080/",
          "height": 815
        },
        "outputId": "f225ff82-00c8-4fbd-f591-c53a655c54b3"
      },
      "cell_type": "code",
      "source": [
        "model.fit(X_train, Y_train, batch_size = 512, epochs = 20, validation_data = (X_test, Y_test))"
      ],
      "execution_count": 12,
      "outputs": [
        {
          "output_type": "stream",
          "text": [
            "Train on 112799 samples, validate on 18799 samples\n",
            "Epoch 1/20\n",
            "112799/112799 [==============================] - 19s 165us/step - loss: 0.2553 - acc: 0.9015 - val_loss: 0.3017 - val_acc: 0.8957\n",
            "Epoch 2/20\n",
            "112799/112799 [==============================] - 17s 150us/step - loss: 0.2499 - acc: 0.9034 - val_loss: 0.3030 - val_acc: 0.8953\n",
            "Epoch 3/20\n",
            "112799/112799 [==============================] - 17s 149us/step - loss: 0.2467 - acc: 0.9037 - val_loss: 0.2950 - val_acc: 0.8948\n",
            "Epoch 4/20\n",
            "112799/112799 [==============================] - 17s 150us/step - loss: 0.2426 - acc: 0.9052 - val_loss: 0.3172 - val_acc: 0.8901\n",
            "Epoch 5/20\n",
            "112799/112799 [==============================] - 17s 151us/step - loss: 0.2419 - acc: 0.9051 - val_loss: 0.2946 - val_acc: 0.8960\n",
            "Epoch 6/20\n",
            "112799/112799 [==============================] - 17s 150us/step - loss: 0.2398 - acc: 0.9058 - val_loss: 0.2976 - val_acc: 0.8954\n",
            "Epoch 7/20\n",
            "112799/112799 [==============================] - 17s 151us/step - loss: 0.2352 - acc: 0.9077 - val_loss: 0.2983 - val_acc: 0.8971\n",
            "Epoch 8/20\n",
            "112799/112799 [==============================] - 17s 150us/step - loss: 0.2356 - acc: 0.9080 - val_loss: 0.2993 - val_acc: 0.8939\n",
            "Epoch 9/20\n",
            "112799/112799 [==============================] - 17s 150us/step - loss: 0.2299 - acc: 0.9093 - val_loss: 0.3063 - val_acc: 0.8934\n",
            "Epoch 10/20\n",
            "112799/112799 [==============================] - 17s 150us/step - loss: 0.2304 - acc: 0.9087 - val_loss: 0.3014 - val_acc: 0.8945\n",
            "Epoch 11/20\n",
            "112799/112799 [==============================] - 17s 150us/step - loss: 0.2289 - acc: 0.9096 - val_loss: 0.3008 - val_acc: 0.8964\n",
            "Epoch 12/20\n",
            "112799/112799 [==============================] - 17s 150us/step - loss: 0.2263 - acc: 0.9104 - val_loss: 0.3007 - val_acc: 0.8965\n",
            "Epoch 13/20\n",
            "112799/112799 [==============================] - 17s 148us/step - loss: 0.2241 - acc: 0.9107 - val_loss: 0.3008 - val_acc: 0.8946\n",
            "Epoch 14/20\n",
            "112799/112799 [==============================] - 17s 152us/step - loss: 0.2201 - acc: 0.9118 - val_loss: 0.2971 - val_acc: 0.8969\n",
            "Epoch 15/20\n",
            "112799/112799 [==============================] - 17s 153us/step - loss: 0.2198 - acc: 0.9124 - val_loss: 0.2983 - val_acc: 0.8981\n",
            "Epoch 16/20\n",
            "112799/112799 [==============================] - 17s 147us/step - loss: 0.2180 - acc: 0.9128 - val_loss: 0.2999 - val_acc: 0.8982\n",
            "Epoch 17/20\n",
            "112799/112799 [==============================] - 17s 149us/step - loss: 0.2163 - acc: 0.9135 - val_loss: 0.3048 - val_acc: 0.8952\n",
            "Epoch 18/20\n",
            "112799/112799 [==============================] - 17s 147us/step - loss: 0.2134 - acc: 0.9151 - val_loss: 0.3014 - val_acc: 0.8968\n",
            "Epoch 19/20\n",
            "112799/112799 [==============================] - 17s 148us/step - loss: 0.2129 - acc: 0.9143 - val_loss: 0.3013 - val_acc: 0.8965\n",
            "Epoch 20/20\n",
            "112799/112799 [==============================] - 17s 148us/step - loss: 0.2120 - acc: 0.9147 - val_loss: 0.3068 - val_acc: 0.8967\n"
          ],
          "name": "stdout"
        },
        {
          "output_type": "execute_result",
          "data": {
            "text/plain": [
              "<keras.callbacks.History at 0x7f5c5b606630>"
            ]
          },
          "metadata": {
            "tags": []
          },
          "execution_count": 12
        }
      ]
    }
  ]
}