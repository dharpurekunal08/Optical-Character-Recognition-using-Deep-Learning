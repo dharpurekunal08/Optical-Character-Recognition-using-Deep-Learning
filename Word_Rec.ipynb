{
  "nbformat": 4,
  "nbformat_minor": 0,
  "metadata": {
    "colab": {
      "name": "Word_Rec.ipynb",
      "version": "0.3.2",
      "provenance": [],
      "collapsed_sections": []
    },
    "kernelspec": {
      "name": "python3",
      "display_name": "Python 3"
    },
    "accelerator": "GPU"
  },
  "cells": [
    {
      "metadata": {
        "id": "-LNYU_ln_n--",
        "colab_type": "code",
        "colab": {
          "base_uri": "https://localhost:8080/",
          "height": 36
        },
        "outputId": "a7e0bc39-d786-4102-d9bf-ab7288bf72cc"
      },
      "cell_type": "code",
      "source": [
        "import tensorflow as tf\n",
        "tf.test.gpu_device_name()"
      ],
      "execution_count": 1,
      "outputs": [
        {
          "output_type": "execute_result",
          "data": {
            "text/plain": [
              "'/device:GPU:0'"
            ]
          },
          "metadata": {
            "tags": []
          },
          "execution_count": 1
        }
      ]
    },
    {
      "metadata": {
        "id": "4KmMAgKM_0eo",
        "colab_type": "code",
        "colab": {}
      },
      "cell_type": "code",
      "source": [
        "!pip install -U -q PyDrive\n",
        " \n",
        "from pydrive.auth import GoogleAuth\n",
        "from pydrive.drive import GoogleDrive\n",
        "from google.colab import auth\n",
        "from oauth2client.client import GoogleCredentials\n",
        " \n",
        "# 1. Authenticate and create the PyDrive client.\n",
        "auth.authenticate_user()\n",
        "gauth = GoogleAuth()\n",
        "gauth.credentials = GoogleCredentials.get_application_default()\n",
        "drive = GoogleDrive(gauth)"
      ],
      "execution_count": 0,
      "outputs": []
    },
    {
      "metadata": {
        "id": "hiqcpEZg_3OG",
        "colab_type": "code",
        "colab": {
          "base_uri": "https://localhost:8080/",
          "height": 131
        },
        "outputId": "6e9125df-6bc9-49f5-879d-c108dbc26f94"
      },
      "cell_type": "code",
      "source": [
        "file_list = drive.ListFile({'q': \"'1iW1GMIWmDm6h6uGxJPjk2bt-7JcQJETM' in parents and trashed=false\"}).GetList()\n",
        "for file1 in file_list:\n",
        "  print('title: %s, id: %s' % (file1['title'], file1['id']))"
      ],
      "execution_count": 3,
      "outputs": [
        {
          "output_type": "stream",
          "text": [
            "title: Word_Rec.ipynb, id: 1wT6ydffIgr9vUadtYw35MMRhquVOS_vE\n",
            "title: Train_X.csv, id: 1Ni7vZ53ssxLTP5-J8Zv3svn6L9W-YpEM\n",
            "title: Train_Y.csv, id: 1hkIEneGvbb3QJ_UMPioNxPF1PT1MdZqr\n",
            "title: OCR.ipynb, id: 1_DYFu440zgSozaS2W5i7LH018UQU-C1y\n",
            "title: emnist-balanced-train.csv, id: 1HfeTC65KaW3FOE2httDR6wYySvdUbF4o\n",
            "title: emnist-balanced-test.csv, id: 12dgVBkW6GCa-1dQkSMrLQ55ee-FUgv3M\n"
          ],
          "name": "stdout"
        }
      ]
    },
    {
      "metadata": {
        "id": "00FRh9Ot_-bv",
        "colab_type": "code",
        "colab": {}
      },
      "cell_type": "code",
      "source": [
        "train_x = drive.CreateFile({'id': '1Ni7vZ53ssxLTP5-J8Zv3svn6L9W-YpEM'})\n",
        "train_x.GetContentFile('Train_X.csv')\n",
        "train_y = drive.CreateFile({'id': '1hkIEneGvbb3QJ_UMPioNxPF1PT1MdZqr'})\n",
        "train_y.GetContentFile('Train_Y.csv')"
      ],
      "execution_count": 0,
      "outputs": []
    },
    {
      "metadata": {
        "id": "m2rbr-UsABDp",
        "colab_type": "code",
        "colab": {
          "base_uri": "https://localhost:8080/",
          "height": 36
        },
        "outputId": "fae144ee-f751-4ee8-e443-90496c5f086e"
      },
      "cell_type": "code",
      "source": [
        "import numpy as np\n",
        "import keras\n",
        "import matplotlib.pyplot as plt\n",
        "import pandas as pd\n",
        "import os"
      ],
      "execution_count": 5,
      "outputs": [
        {
          "output_type": "stream",
          "text": [
            "Using TensorFlow backend.\n"
          ],
          "name": "stderr"
        }
      ]
    },
    {
      "metadata": {
        "id": "dAlu46wSAGgh",
        "colab_type": "code",
        "colab": {
          "base_uri": "https://localhost:8080/",
          "height": 74
        },
        "outputId": "5945b65e-3509-4e26-9166-4bf001f78a11"
      },
      "cell_type": "code",
      "source": [
        "data = pd.read_csv(\"Train_X.csv\").values\n",
        "X_train = data[:, 1:]\n",
        "data = pd.read_csv(\"Train_Y.csv\").values\n",
        "Y = data[:, 1:]\n",
        "X_train = np.reshape(X_train, (X_train.shape[0], 64, 64, 1)) / 255\n",
        "#Y = np.reshape(Y, (Y.shape[0], Y.shape[1], 1))\n",
        "print(X_train.shape)\n",
        "print(Y.shape)\n",
        "\n",
        "Y_train = np.zeros((Y.shape[0], Y.shape[1], 53))\n",
        "for i in range(Y_train.shape[0]) :\n",
        "  for j in range(Y_train[i].shape[0]) :\n",
        "    arr = np.zeros((53))\n",
        "    c = int(Y[i][j])\n",
        "    arr[c] = 1\n",
        "    Y_train[i][j] = arr\n",
        "    \n",
        "print(Y_train.shape)"
      ],
      "execution_count": 6,
      "outputs": [
        {
          "output_type": "stream",
          "text": [
            "(115320, 64, 64, 1)\n",
            "(115320, 10)\n",
            "(115320, 10, 53)\n"
          ],
          "name": "stdout"
        }
      ]
    },
    {
      "metadata": {
        "id": "Cx4JiTlDBlSm",
        "colab_type": "code",
        "colab": {}
      },
      "cell_type": "code",
      "source": [
        "from keras.layers import Input, Conv2D, BatchNormalization, MaxPooling2D, Activation, LSTM, Flatten, Dense, Dropout, TimeDistributed, RepeatVector\n",
        "def make_model(input_shape) :\n",
        "  X = keras.models.Sequential()\n",
        "  X.add(Conv2D(16, (3, 3), padding = 'same', input_shape = input_shape))\n",
        "  X.add(BatchNormalization())\n",
        "  X.add(Activation('relu'))\n",
        "  X.add(MaxPooling2D((3, 3)))\n",
        "  \n",
        "  X.add(Conv2D(32, (3, 3), padding = 'same'))\n",
        "  X.add(BatchNormalization())\n",
        "  X.add(Activation('relu'))\n",
        "  X.add(MaxPooling2D((3, 3)))\n",
        "  \n",
        "  X.add(Conv2D(64, (3, 3), padding = 'same'))\n",
        "  X.add(BatchNormalization())\n",
        "  X.add(Activation('relu'))\n",
        "  X.add(MaxPooling2D((3, 3)))\n",
        "  X.add(Flatten())\n",
        "  #X.add(keras.layers.Reshape((16, 16)))\n",
        "  #X_input = Input((16, 16))\n",
        "  #time = TimeDistributed(X)(X_input)\n",
        "  X.add(RepeatVector(10))\n",
        "  X.add(LSTM(64, return_sequences = True))\n",
        "  X.add(Dense(53, activation = 'softmax'))\n",
        "  \n",
        " \n",
        "  #model = keras.models.Model(inputs = X_input, outputs = Y1)\n",
        "  \n",
        "  X.summary()\n",
        "  return X\n",
        "  \n",
        "  #return model"
      ],
      "execution_count": 0,
      "outputs": []
    },
    {
      "metadata": {
        "id": "MT-SgkFXHQrr",
        "colab_type": "code",
        "colab": {
          "base_uri": "https://localhost:8080/",
          "height": 758
        },
        "outputId": "08dd7f7e-28c6-4b62-c8af-f7100ee372d9"
      },
      "cell_type": "code",
      "source": [
        "model = make_model((64, 64, 1))"
      ],
      "execution_count": 8,
      "outputs": [
        {
          "output_type": "stream",
          "text": [
            "_________________________________________________________________\n",
            "Layer (type)                 Output Shape              Param #   \n",
            "=================================================================\n",
            "conv2d_1 (Conv2D)            (None, 64, 64, 16)        160       \n",
            "_________________________________________________________________\n",
            "batch_normalization_1 (Batch (None, 64, 64, 16)        64        \n",
            "_________________________________________________________________\n",
            "activation_1 (Activation)    (None, 64, 64, 16)        0         \n",
            "_________________________________________________________________\n",
            "max_pooling2d_1 (MaxPooling2 (None, 21, 21, 16)        0         \n",
            "_________________________________________________________________\n",
            "conv2d_2 (Conv2D)            (None, 21, 21, 32)        4640      \n",
            "_________________________________________________________________\n",
            "batch_normalization_2 (Batch (None, 21, 21, 32)        128       \n",
            "_________________________________________________________________\n",
            "activation_2 (Activation)    (None, 21, 21, 32)        0         \n",
            "_________________________________________________________________\n",
            "max_pooling2d_2 (MaxPooling2 (None, 7, 7, 32)          0         \n",
            "_________________________________________________________________\n",
            "conv2d_3 (Conv2D)            (None, 7, 7, 64)          18496     \n",
            "_________________________________________________________________\n",
            "batch_normalization_3 (Batch (None, 7, 7, 64)          256       \n",
            "_________________________________________________________________\n",
            "activation_3 (Activation)    (None, 7, 7, 64)          0         \n",
            "_________________________________________________________________\n",
            "max_pooling2d_3 (MaxPooling2 (None, 2, 2, 64)          0         \n",
            "_________________________________________________________________\n",
            "flatten_1 (Flatten)          (None, 256)               0         \n",
            "_________________________________________________________________\n",
            "repeat_vector_1 (RepeatVecto (None, 10, 256)           0         \n",
            "_________________________________________________________________\n",
            "lstm_1 (LSTM)                (None, 10, 64)            82176     \n",
            "_________________________________________________________________\n",
            "dense_1 (Dense)              (None, 10, 53)            3445      \n",
            "=================================================================\n",
            "Total params: 109,365\n",
            "Trainable params: 109,141\n",
            "Non-trainable params: 224\n",
            "_________________________________________________________________\n"
          ],
          "name": "stdout"
        }
      ]
    },
    {
      "metadata": {
        "id": "yx7EF0SmHbhE",
        "colab_type": "code",
        "colab": {
          "base_uri": "https://localhost:8080/",
          "height": 815
        },
        "outputId": "317ccb70-1459-4332-e2a3-d150426564ff"
      },
      "cell_type": "code",
      "source": [
        "model.compile(optimizer = 'adam', loss = 'categorical_crossentropy', metrics = ['accuracy'])\n",
        "model.fit(X_train, Y_train, batch_size = 512, epochs = 20, validation_split = 0.05)"
      ],
      "execution_count": 11,
      "outputs": [
        {
          "output_type": "stream",
          "text": [
            "Train on 109554 samples, validate on 5766 samples\n",
            "Epoch 1/20\n",
            "109554/109554 [==============================] - 48s 437us/step - loss: 0.6809 - acc: 0.7947 - val_loss: 0.7300 - val_acc: 0.7838\n",
            "Epoch 2/20\n",
            "109554/109554 [==============================] - 47s 425us/step - loss: 0.6785 - acc: 0.7953 - val_loss: 0.7292 - val_acc: 0.7848\n",
            "Epoch 3/20\n",
            "109554/109554 [==============================] - 46s 421us/step - loss: 0.6728 - acc: 0.7971 - val_loss: 0.7352 - val_acc: 0.7876\n",
            "Epoch 4/20\n",
            "109554/109554 [==============================] - 46s 422us/step - loss: 0.6712 - acc: 0.7975 - val_loss: 0.7383 - val_acc: 0.7806\n",
            "Epoch 5/20\n",
            "109554/109554 [==============================] - 46s 423us/step - loss: 0.6660 - acc: 0.7991 - val_loss: 0.7255 - val_acc: 0.7901\n",
            "Epoch 6/20\n",
            "109554/109554 [==============================] - 46s 421us/step - loss: 0.6630 - acc: 0.7999 - val_loss: 0.7255 - val_acc: 0.7899\n",
            "Epoch 7/20\n",
            "109554/109554 [==============================] - 46s 421us/step - loss: 0.6597 - acc: 0.8010 - val_loss: 0.8554 - val_acc: 0.7441\n",
            "Epoch 8/20\n",
            "109554/109554 [==============================] - 46s 418us/step - loss: 0.6575 - acc: 0.8015 - val_loss: 0.7332 - val_acc: 0.7906\n",
            "Epoch 9/20\n",
            "109554/109554 [==============================] - 46s 418us/step - loss: 0.6549 - acc: 0.8022 - val_loss: 0.7549 - val_acc: 0.7749\n",
            "Epoch 10/20\n",
            "109554/109554 [==============================] - 46s 419us/step - loss: 0.6513 - acc: 0.8034 - val_loss: 0.7414 - val_acc: 0.7862\n",
            "Epoch 11/20\n",
            "109554/109554 [==============================] - 46s 419us/step - loss: 0.6487 - acc: 0.8040 - val_loss: 0.7044 - val_acc: 0.7955\n",
            "Epoch 12/20\n",
            "109554/109554 [==============================] - 46s 420us/step - loss: 0.6463 - acc: 0.8049 - val_loss: 0.7655 - val_acc: 0.7725\n",
            "Epoch 13/20\n",
            "109554/109554 [==============================] - 46s 419us/step - loss: 0.6435 - acc: 0.8055 - val_loss: 0.8029 - val_acc: 0.7643\n",
            "Epoch 14/20\n",
            "109554/109554 [==============================] - 46s 417us/step - loss: 0.6402 - acc: 0.8062 - val_loss: 0.7178 - val_acc: 0.7931\n",
            "Epoch 15/20\n",
            "109554/109554 [==============================] - 46s 419us/step - loss: 0.6386 - acc: 0.8071 - val_loss: 0.7281 - val_acc: 0.7932\n",
            "Epoch 16/20\n",
            "109554/109554 [==============================] - 46s 420us/step - loss: 0.6359 - acc: 0.8079 - val_loss: 0.7455 - val_acc: 0.7797\n",
            "Epoch 17/20\n",
            "109554/109554 [==============================] - 46s 422us/step - loss: 0.6344 - acc: 0.8082 - val_loss: 0.7397 - val_acc: 0.7835\n",
            "Epoch 18/20\n",
            "109554/109554 [==============================] - 46s 423us/step - loss: 0.6322 - acc: 0.8086 - val_loss: 0.7351 - val_acc: 0.7918\n",
            "Epoch 19/20\n",
            "109554/109554 [==============================] - 46s 422us/step - loss: 0.6292 - acc: 0.8097 - val_loss: 0.7179 - val_acc: 0.7899\n",
            "Epoch 20/20\n",
            "109554/109554 [==============================] - 46s 420us/step - loss: 0.6274 - acc: 0.8101 - val_loss: 0.7560 - val_acc: 0.7859\n"
          ],
          "name": "stdout"
        },
        {
          "output_type": "execute_result",
          "data": {
            "text/plain": [
              "<keras.callbacks.History at 0x7efd9b7fe940>"
            ]
          },
          "metadata": {
            "tags": []
          },
          "execution_count": 11
        }
      ]
    },
    {
      "metadata": {
        "id": "f8jAH9VH-in8",
        "colab_type": "code",
        "colab": {}
      },
      "cell_type": "code",
      "source": [
        ""
      ],
      "execution_count": 0,
      "outputs": []
    }
  ]
}